{
  "nbformat": 4,
  "nbformat_minor": 0,
  "metadata": {
    "colab": {
      "provenance": [],
      "authorship_tag": "ABX9TyP5fuZQ7xYFe7pK/qk7MpbS",
      "include_colab_link": true
    },
    "kernelspec": {
      "name": "python3",
      "display_name": "Python 3"
    },
    "language_info": {
      "name": "python"
    }
  },
  "cells": [
    {
      "cell_type": "markdown",
      "metadata": {
        "id": "view-in-github",
        "colab_type": "text"
      },
      "source": [
        "<a href=\"https://colab.research.google.com/github/CesarJC92/SIM_YAC_JARA_UPSE2023/blob/main/Ejercicio_1.ipynb\" target=\"_parent\"><img src=\"https://colab.research.google.com/assets/colab-badge.svg\" alt=\"Open In Colab\"/></a>"
      ]
    },
    {
      "cell_type": "code",
      "execution_count": 1,
      "metadata": {
        "id": "swSwtfpC9B_1"
      },
      "outputs": [],
      "source": [
        "## Hola mundo!"
      ]
    },
    {
      "cell_type": "markdown",
      "source": [
        "***Intento 1***"
      ],
      "metadata": {
        "id": "SCmt8SLituuE"
      }
    },
    {
      "cell_type": "code",
      "source": [
        "import numpy  as np\n",
        "import math"
      ],
      "metadata": {
        "id": "oFdGu6BslmCK"
      },
      "execution_count": 6,
      "outputs": []
    },
    {
      "cell_type": "code",
      "source": [
        "L=30000\n",
        "#dx=2500\n",
        "#Tiempo=100000\n",
        "#DT=1\n",
        "K=50 #Permeabilidad MD\n",
        "por=0.5\n",
        "vis=1 # centipoise\n",
        "Beta=0.7\n",
        "CompTotal=1.2**(-6) #ps1-1\n",
        "A=200000#ft^2"
      ],
      "metadata": {
        "id": "-t_lLsq-nTqi"
      },
      "execution_count": 7,
      "outputs": []
    },
    {
      "cell_type": "code",
      "source": [
        "Alpha=K/(vis*por*CompTotal)\n",
        "print (Alpha)\n",
        "Eta=(Alpha*DT)/(dx**2)\n",
        "print (Eta)"
      ],
      "metadata": {
        "id": "pi5ToXwDnhpl",
        "outputId": "c6420df3-b0da-4a0b-ddd2-d00231fdff9e",
        "colab": {
          "base_uri": "https://localhost:8080/"
        }
      },
      "execution_count": 8,
      "outputs": [
        {
          "output_type": "stream",
          "name": "stdout",
          "text": [
            "298.5983999999999\n",
            "0.0005971967999999998\n"
          ]
        }
      ]
    },
    {
      "cell_type": "code",
      "source": [
        "#Esquema Explicito\n",
        "def Presdt(P0,P1,P2,Eta):\n",
        "  Pdt=P1+Eta*(P0-(2*P1)+P2)\n",
        "  return(Pdt)\n",
        "\n",
        "Pexplicita=np.zeros((Tiempo//DT,(L//dx)+2))"
      ],
      "metadata": {
        "id": "RBpFDhlaniRE"
      },
      "execution_count": 9,
      "outputs": []
    },
    {
      "cell_type": "code",
      "source": [],
      "metadata": {
        "id": "oXz2xZJYnlaU"
      },
      "execution_count": 9,
      "outputs": []
    },
    {
      "cell_type": "markdown",
      "source": [
        "***Intento 2***"
      ],
      "metadata": {
        "id": "gT6WYFfxuDko"
      }
    },
    {
      "cell_type": "code",
      "source": [
        "L=30000                                               ## Longitud del yacimiento\n",
        "dx=6000                                               ## Diferenicial X\n",
        "Tiempo=360                                            ## Tiempo total (días)\n",
        "DT=72                                                 ## Diferencial de tiempo\n",
        "Alpha=1                                               ## V alor constante\n",
        "Etha=Alpha*DT/(dx**2)                                 ## Constante adimensional\n",
        "Pext=7000                                             ## Presion en la mitad del yacimiento"
      ],
      "metadata": {
        "id": "54n8kbwXuF3U"
      },
      "execution_count": 10,
      "outputs": []
    },
    {
      "cell_type": "code",
      "source": [
        "Distance= np.arange(0,L,dx)                           ## Se crea arreglo Distance que va de cero a L en intervalos de DX\n",
        "P01=np.ones_like(Distance)                            ## Se crea el arreglo P01 semejante al Distancie en cuyo arreglo se llena con numeros 1\n",
        "PYac=2000                                             ## Ingresamos la presion del yacimiento\n",
        "PFrontd=0                                             ## Frontera derecha con valor de cero\n",
        "PFronti=0                                             ## Frontera izquierda con valor cero\n",
        "P01=P01*PYac                                          ## Reasigamos el valor de P01 que ahora va a se el arreglo P01 multiplicado por la presion del yacimiento,\n",
        "                                                      ## para llenar la primera fila con los valores iniciales de presion\n",
        "P01[0]=PFronti                                        ## En la posicion inicial del del arreglo P01 se coloca el en valor de la presion de frontera izquierda\n",
        "P01[len(P01)-1]=PFrontd                               ## Ahora en la ultima posicion del arreglo P01  se coloca el valor de la frontera derecha\n",
        "N=len(Distance)                                       ## Creamos un vector N de longitud igual al arreglo Distance\n",
        "VectorTiempo=np.arange(0,(Tiempo//DT)*DT,DT)          ## Creamos el arreglo VectorTiempo con un arreglo que va de 0 hasta Tiempo, en intervalos de DT"
      ],
      "metadata": {
        "id": "f9Sd9kjFudmn",
        "outputId": "81c8f060-1f49-469d-83d0-0b06f41a4b0f",
        "colab": {
          "base_uri": "https://localhost:8080/"
        }
      },
      "execution_count": 29,
      "outputs": [
        {
          "output_type": "execute_result",
          "data": {
            "text/plain": [
              "5"
            ]
          },
          "metadata": {},
          "execution_count": 29
        }
      ]
    },
    {
      "cell_type": "code",
      "source": [
        "P01"
      ],
      "metadata": {
        "id": "KvkVcwdP4bC0",
        "outputId": "dd6a6ef2-134d-4b7f-b293-02aa7ea0a9fd",
        "colab": {
          "base_uri": "https://localhost:8080/"
        }
      },
      "execution_count": 24,
      "outputs": [
        {
          "output_type": "execute_result",
          "data": {
            "text/plain": [
              "array([   0, 2000, 2000, 2000,    0])"
            ]
          },
          "metadata": {},
          "execution_count": 24
        }
      ]
    },
    {
      "cell_type": "code",
      "source": [
        "PM=np.zeros([len(VectorTiempo),N])                    ## Creamos el arreglo PM que se llena con numeros 0\n",
        "                                                      ## en toda la longitud del vector tiempo hasta N que es la longitud de Distance\n",
        "PA=np.zeros([len(VectorTiempo),N])                    ## Creamos el arreglo PA similar al vector PM\n",
        "PM.shape\n",
        "\n",
        "A=np.zeros([N-2, N-2])                                ## Creamos la matriz \"A\" que es cuadrada con filas y columnas de la longitud del arreglo Distance menos 2\n",
        "M=np.zeros([N-2, N-2])                                ## Creamos la matriz \"M\" que es cuadrada con filas y columnas de la longitud del arreglo Distance menos 2\n",
        "d=np.zeros(N-2)                                       ## Creamos un arreglo \"d\" lleno de ceros de una sola fila\n",
        "d[1]=Pext\n",
        "d"
      ],
      "metadata": {
        "id": "RKA-meCexFbM",
        "outputId": "21d47b1f-d52b-488f-9581-08ffad59628f",
        "colab": {
          "base_uri": "https://localhost:8080/"
        }
      },
      "execution_count": 12,
      "outputs": [
        {
          "output_type": "execute_result",
          "data": {
            "text/plain": [
              "array([   0., 7000.,    0.])"
            ]
          },
          "metadata": {},
          "execution_count": 12
        }
      ]
    },
    {
      "cell_type": "code",
      "source": [
        "## Matriz A\n",
        "\n",
        "for i in range(N-2) :                                 ## Creamos el ciclo for que inicia en i en el rango de la longitud de Distace menos 2\n",
        "  A[i,i]=1-2*Etha                                     ## En la matriz A en las posiciones en que las filas y las columnas sean iguales\n",
        "                                                      ## se aplica el valor correspondiente a la diagonal principal\n",
        "  if i>0:                                             ## En las posiciones de las filas y las columnas que no son iguales, y si i es mayor que cero pasa a llenar de cauerdo a lo siguiente:\n",
        "    A[i,i-1]=Etha                                     ## En las posiciones de la matriz de i y de i-1 se va a colocar el valor de Lambda\n",
        "  if i<(N-3):                                         ## Si las posicion i es menor que la posiicion de la longitud restada en 3 entonces:\n",
        "    A[i,i+1]=Etha                                     ## En la matriz A de posiciones i e i+1 tambien va a colocar el valor de Lambda\n",
        "\n",
        "\n",
        "## Matriz M\n",
        "\n",
        "b=Alpha/(2*dx**2)                                     ## Se define el valor de b por medio del valor de Alpha y el dx para ingresar en el ciclo for\n",
        "for i in range(N-2) :                                 ## Para el elemento i en el rango de Distance-2\n",
        "  M[i,i]=1/DT -2*b                                    ## En la matriz M en las posiciones de igual fila e igual columna, el valor en esta se calcula de acuerdo a esta linea\n",
        "  if i>0:                                             ## Cuando i sea mayor que cero,\n",
        "    M[i,i-1]=b                                        ## En la matriz se va a llenar el valor de b, solo en las posiciones que tengan como filas de i y columnas i-1\n",
        "  if i<(N-3):                                         ## En el caso que i sea el valor de la la longitud de Distance menos 3 ,\n",
        "    M[i,i+1]=b                                        ## Se coloca el valor de b solo en las posiciones que tengan como filas de i y columnas i+1\n",
        "\n",
        "\n",
        "\n"
      ],
      "metadata": {
        "id": "4dDbUEssx8Z2"
      },
      "execution_count": 15,
      "outputs": []
    },
    {
      "cell_type": "code",
      "source": [
        "def filld(Pn):                                        ## Se define que se va a con un parametro Pn\n",
        "  d=np.zeros(N-2)                                     ## Se crea un vector cuyo arreglo va estar lleno de ceros en una longitud de Distance -2\n",
        "  for i in range(N-2):                                ## Se inicia un ciclo for para que el valor de i en el rango anterior especificado haga lo siguiente\n",
        "    d[i]=b*Pn[i] +(1/DT-2*b)*Pn[i+1]+b*Pn[i+2]        ## En la posicion i el valor de d va calculando los valores de las presiones\n",
        "  return d                                            ## retorna el valor de d para que siga realizando el calculo\n",
        "\n",
        "d"
      ],
      "metadata": {
        "id": "2n8FR4LPzslp",
        "outputId": "a76308dc-68d9-4735-c1c5-e511ab246525",
        "colab": {
          "base_uri": "https://localhost:8080/"
        }
      },
      "execution_count": 17,
      "outputs": [
        {
          "output_type": "execute_result",
          "data": {
            "text/plain": [
              "array([   0., 7000.,    0.])"
            ]
          },
          "metadata": {},
          "execution_count": 17
        }
      ]
    },
    {
      "cell_type": "code",
      "source": [
        "Pcal=np.linalg.solve(A,P01[1:-1])                     ## Se va a realizar la operacion de de matrices cuya matriz resultado la llamamos Pcal\n",
        "Pcal[1]=Pext\n",
        "Pcal\n",
        "\n",
        "Pfin=np.concatenate(([PFronti],Pcal,[PFrontd]))       ## Realizamos una concatenacion de los valores de presiones de fronteras y la calculada\n",
        "Pfin\n"
      ],
      "metadata": {
        "id": "YrZmN44C08Nr",
        "outputId": "202ec814-563e-4141-f694-639d1d5f7156",
        "colab": {
          "base_uri": "https://localhost:8080/"
        }
      },
      "execution_count": 22,
      "outputs": [
        {
          "output_type": "execute_result",
          "data": {
            "text/plain": [
              "array([   0.        , 2000.00400002, 7000.        , 2000.00400002,\n",
              "          0.        ])"
            ]
          },
          "metadata": {},
          "execution_count": 22
        }
      ]
    },
    {
      "cell_type": "code",
      "source": [
        "PM[0]=Pfin                                            ## En la posicion cero del arreglo PM de soloca el valor de P01\n",
        "PA[0]=Pfin                                            ## En la posicion cero de  del arreglo PA  se coloca el valor de P01\n",
        "Pactual=Pfin                                          ## Se crea el arreglo Pactual que va a tener los valores de P01\n",
        "Pactual2=Pfin                                         ## Se crea otro arreglo Pactaul2 que tambien tiene los valores de P01\n",
        "for t in range(1,Tiempo//DT):                         ## Ingresamos a un ciclo for identificando a t en el rango de filas posicion 1 y la columna de posicion  Tiempo//DT\n",
        "  d=filld(Pactual)                                    ## Llamamos al arreglo d para que sea llenado en base a los valores de Pactual\n",
        "  Pcal=np.linalg.solve(M,d)                           ## Se resuelve la operacion de matrices entre M y d para obtener Pcal\n",
        "  Pcal2=np.linalg.solve(A,Pactual2[1:-1])# se resuelve la operacion de matrices entre A y el arreglo Pcatual2 con longitud de posiciones de  1 a -1\n",
        "  Pactual2=np.concatenate(([PFronti],Pcal2,[PFrontd]))# se concatena para que el arreglo Pactual2\n",
        "  Pactual=np.concatenate(([PFronti],Pcal,[PFrontd])) #se concatena para que el arreglo Pactual\n",
        "  PM[t]=Pactual # en los valores de t en el rango seleccionado se va ir llenando la matriz PM con los valores de Pcal\n",
        "  PA[t]=Pactual2 # en los valores de t en el rango seleccionado se va ir llenando la matriz PA con los valores de Pcal2"
      ],
      "metadata": {
        "id": "jxmQ2KsD2mLq"
      },
      "execution_count": null,
      "outputs": []
    }
  ]
}