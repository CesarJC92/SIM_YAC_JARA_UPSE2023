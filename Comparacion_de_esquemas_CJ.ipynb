{
  "nbformat": 4,
  "nbformat_minor": 0,
  "metadata": {
    "colab": {
      "provenance": [],
      "include_colab_link": true
    },
    "kernelspec": {
      "name": "python3",
      "display_name": "Python 3"
    },
    "language_info": {
      "name": "python"
    }
  },
  "cells": [
    {
      "cell_type": "markdown",
      "metadata": {
        "id": "view-in-github",
        "colab_type": "text"
      },
      "source": [
        "<a href=\"https://colab.research.google.com/github/CesarJC92/SIM_YAC_JARA_UPSE2023/blob/main/Comparacion_de_esquemas_CJ.ipynb\" target=\"_parent\"><img src=\"https://colab.research.google.com/assets/colab-badge.svg\" alt=\"Open In Colab\"/></a>"
      ]
    },
    {
      "cell_type": "code",
      "execution_count": null,
      "metadata": {
        "id": "IYEYYovaqIX8"
      },
      "outputs": [],
      "source": [
        "import numpy  as np \n",
        "import math\n"
      ]
    },
    {
      "cell_type": "code",
      "source": [
        "L=10000\n",
        "dx=2500\n",
        "Tiempo=100000\n",
        "DT=1\n",
        "K=50 #Permeabilidad MD\n",
        "por=0.2\n",
        "vis=1 # centipoise\n",
        "Beta=1\n",
        "CompTotal=1**(-6) #ps1-1\n",
        "A=200000#ft^2\n",
        "\n",
        " \n"
      ],
      "metadata": {
        "id": "LsBiYh-0qXyG"
      },
      "execution_count": null,
      "outputs": []
    },
    {
      "cell_type": "code",
      "source": [
        "Alpha=K/(vis*por*CompTotal)\n",
        "Alpha\n",
        "Eta=(Alpha*DT)/(dx**2)\n",
        "Eta"
      ],
      "metadata": {
        "colab": {
          "base_uri": "https://localhost:8080/"
        },
        "id": "DtDZuIzYsBkE",
        "outputId": "2f76384e-2b6c-44f0-d86c-f0818007d9ac"
      },
      "execution_count": null,
      "outputs": [
        {
          "output_type": "execute_result",
          "data": {
            "text/plain": [
              "4e-05"
            ]
          },
          "metadata": {},
          "execution_count": 23
        }
      ]
    },
    {
      "cell_type": "code",
      "source": [
        "#Esquema Explicito \n",
        "def Presdt(P0,P1,P2,Eta):\n",
        "  Pdt=P1+Eta*(P0-2*P1+P2)\n",
        "  return(Pdt)\n",
        "\n",
        "Pexplicita=np.zeros((Tiempo//DT,L//dx))\n",
        "\n"
      ],
      "metadata": {
        "id": "mFX8uIWbrNgk"
      },
      "execution_count": null,
      "outputs": []
    },
    {
      "cell_type": "code",
      "source": [
        "#Condiciones inicialea \n",
        "Pyac=1000\n",
        "Piz=2000\n",
        "Pder=0\n",
        "Pin=np.ones(L//dx)\n",
        "Pres=np.zeros(L//dx)\n",
        "Pin=Pin*Pyac\n",
        "Pin[0]=Piz\n",
        "Pin[len(Pin)-1]=Pder\n",
        "\n",
        "Pin"
      ],
      "metadata": {
        "colab": {
          "base_uri": "https://localhost:8080/"
        },
        "id": "zAfMvZg2yIQQ",
        "outputId": "3cfae2ad-36c0-4bb9-e396-73ed0291a6a9"
      },
      "execution_count": null,
      "outputs": [
        {
          "output_type": "execute_result",
          "data": {
            "text/plain": [
              "array([2000., 1000., 1000.,    0.])"
            ]
          },
          "metadata": {},
          "execution_count": 30
        }
      ]
    },
    {
      "cell_type": "code",
      "source": [
        "t=DT\n",
        "Pexplicita[0]=Pin\n",
        "Pexplicita.shape\n",
        "while t<Tiempo:\n",
        "  for i in range(0,len(Pin)-1):\n",
        "    if i==0:\n",
        "      Pres[i]=Pin[0]\n",
        "    elif i==len(Pin)-1:\n",
        "      Pres[i]=Pin[len(Pin)-1]\n",
        "    else:\n",
        "      Pres[i]=Presdt(Pin[i-1],Pin[i],Pin[i+1],Eta)\n",
        "  Pexplicita[t//DT]=Pres\n",
        "  t=t+DT\n",
        "  Pin=Pres    \n"
      ],
      "metadata": {
        "colab": {
          "base_uri": "https://localhost:8080/",
          "height": 235
        },
        "id": "3zzCFNL_x6x9",
        "outputId": "b09d6e8b-af75-4420-9727-e13ce0f5e6a8"
      },
      "execution_count": null,
      "outputs": [
        {
          "output_type": "error",
          "ename": "NameError",
          "evalue": "ignored",
          "traceback": [
            "\u001b[0;31m---------------------------------------------------------------------------\u001b[0m",
            "\u001b[0;31mNameError\u001b[0m                                 Traceback (most recent call last)",
            "\u001b[0;32m<ipython-input-1-1e15abfd158c>\u001b[0m in \u001b[0;36m<cell line: 1>\u001b[0;34m()\u001b[0m\n\u001b[0;32m----> 1\u001b[0;31m \u001b[0mt\u001b[0m\u001b[0;34m=\u001b[0m\u001b[0mDT\u001b[0m\u001b[0;34m\u001b[0m\u001b[0;34m\u001b[0m\u001b[0m\n\u001b[0m\u001b[1;32m      2\u001b[0m \u001b[0mPexplicita\u001b[0m\u001b[0;34m[\u001b[0m\u001b[0;36m0\u001b[0m\u001b[0;34m]\u001b[0m\u001b[0;34m=\u001b[0m\u001b[0mPin\u001b[0m\u001b[0;34m\u001b[0m\u001b[0;34m\u001b[0m\u001b[0m\n\u001b[1;32m      3\u001b[0m \u001b[0mPexplicita\u001b[0m\u001b[0;34m.\u001b[0m\u001b[0mshape\u001b[0m\u001b[0;34m\u001b[0m\u001b[0;34m\u001b[0m\u001b[0m\n\u001b[1;32m      4\u001b[0m \u001b[0;32mwhile\u001b[0m \u001b[0mt\u001b[0m\u001b[0;34m<\u001b[0m\u001b[0mTiempo\u001b[0m\u001b[0;34m:\u001b[0m\u001b[0;34m\u001b[0m\u001b[0;34m\u001b[0m\u001b[0m\n\u001b[1;32m      5\u001b[0m   \u001b[0;32mfor\u001b[0m \u001b[0mi\u001b[0m \u001b[0;32min\u001b[0m \u001b[0mrange\u001b[0m\u001b[0;34m(\u001b[0m\u001b[0;36m0\u001b[0m\u001b[0;34m,\u001b[0m\u001b[0mlen\u001b[0m\u001b[0;34m(\u001b[0m\u001b[0mPin\u001b[0m\u001b[0;34m)\u001b[0m\u001b[0;34m-\u001b[0m\u001b[0;36m1\u001b[0m\u001b[0;34m)\u001b[0m\u001b[0;34m:\u001b[0m\u001b[0;34m\u001b[0m\u001b[0;34m\u001b[0m\u001b[0m\n",
            "\u001b[0;31mNameError\u001b[0m: name 'DT' is not defined"
          ]
        }
      ]
    },
    {
      "cell_type": "code",
      "source": [
        "#Esquema Implicito\n"
      ],
      "metadata": {
        "id": "yeVOeU_FrSpd"
      },
      "execution_count": null,
      "outputs": []
    }
  ]
}